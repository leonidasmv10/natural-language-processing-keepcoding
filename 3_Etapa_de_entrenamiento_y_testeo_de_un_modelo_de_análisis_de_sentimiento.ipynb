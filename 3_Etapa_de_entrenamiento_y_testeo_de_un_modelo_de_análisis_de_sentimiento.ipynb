{
  "nbformat": 4,
  "nbformat_minor": 0,
  "metadata": {
    "colab": {
      "provenance": []
    },
    "kernelspec": {
      "name": "python3",
      "display_name": "Python 3"
    },
    "language_info": {
      "name": "python"
    }
  },
  "cells": [
    {
      "cell_type": "markdown",
      "source": [
        "# 🧠 Práctica final NLP\n",
        "\n",
        "## 📊 Análisis de Sentimiento - Etapa de entrenamiento y testeo de un modelo de análisis  de sentimiento\n",
        "\n",
        "### 🛒 Dataset: Reviews de Amazon\n",
        "\n",
        "Este dataset contiene reseñas de productos de Amazon clasificadas por categorías, en este caso, **Deportes y actividades al aire libre**.  \n",
        "Cada reseña incluye una calificación representada por un **número de estrellas ⭐**.\n"
      ],
      "metadata": {
        "id": "WllYFq0LeFCL"
      }
    },
    {
      "cell_type": "markdown",
      "source": [
        "# 1. Cargar el dataset proprocesado"
      ],
      "metadata": {
        "id": "bMey5HPWeQUe"
      }
    },
    {
      "cell_type": "code",
      "source": [
        "import pandas as pd\n",
        "import numpy as np\n",
        "import matplotlib.pyplot as plt\n",
        "import seaborn as sns\n",
        "from sklearn.model_selection import train_test_split\n",
        "from sklearn.feature_extraction.text import CountVectorizer, TfidfVectorizer\n",
        "from sklearn.naive_bayes import MultinomialNB\n",
        "from sklearn.linear_model import LogisticRegression\n",
        "from sklearn.svm import LinearSVC\n",
        "from sklearn.ensemble import RandomForestClassifier\n",
        "from sklearn.metrics import classification_report, accuracy_score, confusion_matrix, roc_curve, auc\n",
        "from sklearn.utils.class_weight import compute_class_weight"
      ],
      "metadata": {
        "id": "1lAWZ0hGpJ80"
      },
      "execution_count": null,
      "outputs": []
    },
    {
      "cell_type": "code",
      "source": [
        "# Cargar el dataset preprocesado\n",
        "reviews_df = pd.read_csv('/content/preprocessed_dataset.csv')\n",
        "\n",
        "# Verificar que el dataset se haya cargado correctamente\n",
        "print(\"Dataset cargado exitosamente\")\n",
        "print(f\"Dimensiones: {reviews_df.shape}\")"
      ],
      "metadata": {
        "colab": {
          "base_uri": "https://localhost:8080/"
        },
        "id": "T2quYAcypLoE",
        "outputId": "fc0ccdde-0f89-4a18-af2d-233b879819b7"
      },
      "execution_count": null,
      "outputs": [
        {
          "output_type": "stream",
          "name": "stdout",
          "text": [
            "Dataset cargado exitosamente\n",
            "Dimensiones: (10000, 12)\n"
          ]
        }
      ]
    },
    {
      "cell_type": "code",
      "source": [
        "# Filtrar reviews para tener solo positivas y negativas (clasificación binaria)\n",
        "binary_df = reviews_df[reviews_df['sentiment'] != 'neutral'].copy()\n",
        "\n",
        "# Convertir sentimiento a variable binaria (1 para positivo, 0 para negativo)\n",
        "binary_df['sentiment_binary'] = binary_df['sentiment'].apply(lambda x: 1 if x == 'positive' else 0)\n",
        "\n",
        "# Verificar balance de clases\n",
        "class_distribution = binary_df['sentiment_binary'].value_counts(normalize=True)\n",
        "print(\"\\nDistribución de clases:\")\n",
        "print(class_distribution)"
      ],
      "metadata": {
        "colab": {
          "base_uri": "https://localhost:8080/"
        },
        "id": "9xJvWvobpoUU",
        "outputId": "a330d28c-ee4e-4cae-ce03-035d3a9516f1"
      },
      "execution_count": null,
      "outputs": [
        {
          "output_type": "stream",
          "name": "stdout",
          "text": [
            "\n",
            "Distribución de clases:\n",
            "sentiment_binary\n",
            "1    0.5\n",
            "0    0.5\n",
            "Name: proportion, dtype: float64\n"
          ]
        }
      ]
    },
    {
      "cell_type": "code",
      "source": [
        "# Visualizar balance de clases\n",
        "plt.figure(figsize=(8, 6))\n",
        "binary_df['sentiment_binary'].value_counts().plot(kind='bar', color=['red', 'green'])\n",
        "plt.title('Balance de Clases', fontsize=14)\n",
        "plt.xlabel('Clase (0: Negativo, 1: Positivo)', fontsize=12)\n",
        "plt.ylabel('Número de Reviews', fontsize=12)\n",
        "plt.xticks([0, 1], ['Negativo', 'Positivo'], rotation=0)\n",
        "\n",
        "# Añadir valores sobre las barras\n",
        "ax = plt.gca()\n",
        "for p in ax.patches:\n",
        "    height = p.get_height()\n",
        "    ax.text(p.get_x() + p.get_width()/2., height,\n",
        "           f'{int(height)}',\n",
        "           ha='center', va='bottom', fontsize=11, fontweight='bold')\n",
        "\n",
        "plt.tight_layout()\n",
        "plt.show()"
      ],
      "metadata": {
        "colab": {
          "base_uri": "https://localhost:8080/",
          "height": 607
        },
        "id": "YNH169g-prNs",
        "outputId": "f32dd52b-241e-453a-ae3f-3237efda6b28"
      },
      "execution_count": null,
      "outputs": [
        {
          "output_type": "display_data",
          "data": {
            "text/plain": [
              "<Figure size 800x600 with 1 Axes>"
            ],
            "image/png": "[encoded data removed]"
          },
          "metadata": {}
        }
      ]
    },
    {
      "cell_type": "markdown",
      "source": [
        "# 2. Dividir en conjuntos de entrenamiento y prueba"
      ],
      "metadata": {
        "id": "UmRrQw-ke-zv"
      }
    },
    {
      "cell_type": "code",
      "source": [
        "X_train, X_test, y_train, y_test = train_test_split(\n",
        "    binary_df['processed_text_advanced'],  # Usando el texto preprocesado avanzado\n",
        "    binary_df['sentiment_binary'],\n",
        "    test_size=0.2,\n",
        "    random_state=42,\n",
        "    stratify=binary_df['sentiment_binary']  # Mantener la misma distribución de clases\n",
        ")\n",
        "\n",
        "print(f\"\\nConjunto de entrenamiento: {len(X_train)} muestras\")\n",
        "print(f\"Conjunto de prueba: {len(X_test)} muestras\")"
      ],
      "metadata": {
        "colab": {
          "base_uri": "https://localhost:8080/"
        },
        "id": "1gb4TDJcpuU-",
        "outputId": "db551453-0e1b-475b-ae70-7d39d34f3c2d"
      },
      "execution_count": null,
      "outputs": [
        {
          "output_type": "stream",
          "name": "stdout",
          "text": [
            "\n",
            "Conjunto de entrenamiento: 8000 muestras\n",
            "Conjunto de prueba: 2000 muestras\n"
          ]
        }
      ]
    },
    {
      "cell_type": "markdown",
      "source": [
        "# 3. Vectorización"
      ],
      "metadata": {
        "id": "_Xbn6RgqfaAh"
      }
    },
    {
      "cell_type": "code",
      "source": [
        "# Vectorización 1: Bag-of-Words (Count Vectorizer)\n",
        "print(\"\\nVectorizando con CountVectorizer...\")\n",
        "count_vectorizer = CountVectorizer(\n",
        "    max_features=5000,  # Limitamos a las 5000 palabras más frecuentes\n",
        "    min_df=5,           # Ignorar términos que aparecen en menos de 5 documentos\n",
        "    max_df=0.7,         # Ignorar términos que aparecen en más del 70% de documentos\n",
        "    ngram_range=(1, 2)  # Incluir unigrams y bigrams\n",
        ")\n",
        "\n",
        "X_train_counts = count_vectorizer.fit_transform(X_train)\n",
        "X_test_counts = count_vectorizer.transform(X_test)\n",
        "\n",
        "print(f\"Dimensión de la matriz Count: {X_train_counts.shape}\")"
      ],
      "metadata": {
        "colab": {
          "base_uri": "https://localhost:8080/"
        },
        "id": "OnOPLV3_pxR2",
        "outputId": "4993004c-6514-4dbb-f4f1-ff27d9c05944"
      },
      "execution_count": null,
      "outputs": [
        {
          "output_type": "stream",
          "name": "stdout",
          "text": [
            "\n",
            "Vectorizando con CountVectorizer...\n",
            "Dimensión de la matriz Count: (8000, 5000)\n"
          ]
        }
      ]
    },
    {
      "cell_type": "code",
      "source": [
        "# Vectorización 2: TF-IDF\n",
        "print(\"\\nVectorizando con TfidfVectorizer...\")\n",
        "tfidf_vectorizer = TfidfVectorizer(\n",
        "    max_features=5000,\n",
        "    min_df=5,\n",
        "    max_df=0.7,\n",
        "    ngram_range=(1, 2)\n",
        ")\n",
        "\n",
        "X_train_tfidf = tfidf_vectorizer.fit_transform(X_train)\n",
        "X_test_tfidf = tfidf_vectorizer.transform(X_test)\n",
        "\n",
        "print(f\"Dimensión de la matriz TF-IDF: {X_train_tfidf.shape}\")"
      ],
      "metadata": {
        "colab": {
          "base_uri": "https://localhost:8080/"
        },
        "id": "JtnkJuTrtRAw",
        "outputId": "e32ae91f-c099-425c-df3c-861b2053edde"
      },
      "execution_count": null,
      "outputs": [
        {
          "output_type": "stream",
          "name": "stdout",
          "text": [
            "\n",
            "Vectorizando con TfidfVectorizer...\n",
            "Dimensión de la matriz TF-IDF: (8000, 5000)\n"
          ]
        }
      ]
    },
    {
      "cell_type": "markdown",
      "source": [
        "# 4. Entrenamiento y evaluación de modelos"
      ],
      "metadata": {
        "id": "0w8ws-Xhf_ql"
      }
    },
    {
      "cell_type": "code",
      "source": [
        "# Función para entrenar y evaluar un modelo\n",
        "def train_and_evaluate(model, X_train, X_test, y_train, y_test, model_name):\n",
        "    print(f\"\\nEntrenando modelo: {model_name}\")\n",
        "    print(\"-\" * 30)\n",
        "\n",
        "    # Entrenar el modelo\n",
        "    model.fit(X_train, y_train)\n",
        "\n",
        "    # Predecir en conjunto de prueba\n",
        "    y_pred = model.predict(X_test)\n",
        "\n",
        "    # Calcular métricas\n",
        "    accuracy = accuracy_score(y_test, y_pred)\n",
        "    conf_matrix = confusion_matrix(y_test, y_pred)\n",
        "    report = classification_report(y_test, y_pred)\n",
        "\n",
        "    print(f\"Accuracy: {accuracy:.4f}\")\n",
        "    print(f\"\\nConfusion Matrix:\")\n",
        "    print(conf_matrix)\n",
        "    print(f\"\\nClassification Report:\")\n",
        "    print(report)\n",
        "\n",
        "    # Guardar predicciones de probabilidad\n",
        "    if hasattr(model, 'predict_proba'):\n",
        "        y_pred_proba = model.predict_proba(X_test)[:, 1]\n",
        "    else:\n",
        "        y_pred_proba = None\n",
        "\n",
        "    return {\n",
        "        'model': model,\n",
        "        'accuracy': accuracy,\n",
        "        'confusion_matrix': conf_matrix,\n",
        "        'classification_report': report,\n",
        "        'y_pred': y_pred,\n",
        "        'y_pred_proba': y_pred_proba\n",
        "    }"
      ],
      "metadata": {
        "id": "zJ8kGeiutm8Q"
      },
      "execution_count": null,
      "outputs": []
    },
    {
      "cell_type": "code",
      "source": [
        "# Entrenar Modelo 1: Naive Bayes con Count Vectorizer\n",
        "model1_results = train_and_evaluate(\n",
        "    MultinomialNB(alpha=1.0),\n",
        "    X_train_counts,\n",
        "    X_test_counts,\n",
        "    y_train,\n",
        "    y_test,\n",
        "    \"Naive Bayes con Count Vectorizer\"\n",
        ")"
      ],
      "metadata": {
        "colab": {
          "base_uri": "https://localhost:8080/"
        },
        "id": "bvqV3WR1tsxw",
        "outputId": "330f3504-4242-4efd-a8a3-81dca938aa28"
      },
      "execution_count": null,
      "outputs": [
        {
          "output_type": "stream",
          "name": "stdout",
          "text": [
            "\n",
            "Entrenando modelo: Naive Bayes con Count Vectorizer\n",
            "------------------------------\n",
            "Accuracy: 0.8635\n",
            "\n",
            "Confusion Matrix:\n",
            "[[877 123]\n",
            " [150 850]]\n",
            "\n",
            "Classification Report:\n",
            "              precision    recall  f1-score   support\n",
            "\n",
            "           0       0.85      0.88      0.87      1000\n",
            "           1       0.87      0.85      0.86      1000\n",
            "\n",
            "    accuracy                           0.86      2000\n",
            "   macro avg       0.86      0.86      0.86      2000\n",
            "weighted avg       0.86      0.86      0.86      2000\n",
            "\n"
          ]
        }
      ]
    },
    {
      "cell_type": "code",
      "source": [
        "# Entrenar Modelo 2: Regresión Logística con TF-IDF\n",
        "model2_results = train_and_evaluate(\n",
        "    LogisticRegression(max_iter=1000, C=1.0, random_state=42),\n",
        "    X_train_tfidf,\n",
        "    X_test_tfidf,\n",
        "    y_train,\n",
        "    y_test,\n",
        "    \"Regresión Logística con TF-IDF\"\n",
        ")"
      ],
      "metadata": {
        "id": "R1ulXfrot1Tv",
        "colab": {
          "base_uri": "https://localhost:8080/"
        },
        "outputId": "84c668b3-5e5a-49a6-d4f7-75fa1944d0a4"
      },
      "execution_count": null,
      "outputs": [
        {
          "output_type": "stream",
          "name": "stdout",
          "text": [
            "\n",
            "Entrenando modelo: Regresión Logística con TF-IDF\n",
            "------------------------------\n",
            "Accuracy: 0.8765\n",
            "\n",
            "Confusion Matrix:\n",
            "[[886 114]\n",
            " [133 867]]\n",
            "\n",
            "Classification Report:\n",
            "              precision    recall  f1-score   support\n",
            "\n",
            "           0       0.87      0.89      0.88      1000\n",
            "           1       0.88      0.87      0.88      1000\n",
            "\n",
            "    accuracy                           0.88      2000\n",
            "   macro avg       0.88      0.88      0.88      2000\n",
            "weighted avg       0.88      0.88      0.88      2000\n",
            "\n"
          ]
        }
      ]
    },
    {
      "cell_type": "markdown",
      "source": [
        "# 5. Comparar modelos"
      ],
      "metadata": {
        "id": "3z8dc-tYhDrc"
      }
    },
    {
      "cell_type": "code",
      "source": [
        "print(\"\\nComparación de modelos:\")\n",
        "print(\"=\"*30)\n",
        "models_comparison = pd.DataFrame({\n",
        "    'Modelo': ['Naive Bayes + Count', 'Regresión Logística + TF-IDF'],\n",
        "    'Accuracy': [model1_results['accuracy'], model2_results['accuracy']]\n",
        "})\n",
        "print(models_comparison)"
      ],
      "metadata": {
        "colab": {
          "base_uri": "https://localhost:8080/"
        },
        "id": "4a4EWayAuGtI",
        "outputId": "79ff5205-f8d1-42f1-dd3d-4d9046e5df1e"
      },
      "execution_count": null,
      "outputs": [
        {
          "output_type": "stream",
          "name": "stdout",
          "text": [
            "\n",
            "Comparación de modelos:\n",
            "==============================\n",
            "                         Modelo  Accuracy\n",
            "0           Naive Bayes + Count    0.8635\n",
            "1  Regresión Logística + TF-IDF    0.8765\n"
          ]
        }
      ]
    },
    {
      "cell_type": "code",
      "source": [
        "# Visualizar comparación de modelos\n",
        "plt.figure(figsize=(10, 6))\n",
        "models = models_comparison['Modelo']\n",
        "accuracies = models_comparison['Accuracy']\n",
        "colors = ['lightblue', 'lightcoral']\n",
        "\n",
        "bars = plt.bar(models, accuracies, color=colors)\n",
        "plt.title('Comparación de Accuracy entre Modelos', fontsize=14)\n",
        "plt.xlabel('Modelo', fontsize=12)\n",
        "plt.ylabel('Accuracy', fontsize=12)\n",
        "plt.ylim(0.8, 1.0)\n",
        "plt.xticks(rotation=45, ha='right')\n",
        "\n",
        "# Añadir valores sobre las barras\n",
        "for bar in bars:\n",
        "    height = bar.get_height()\n",
        "    plt.text(bar.get_x() + bar.get_width()/2., height,\n",
        "             f'{height:.3f}',\n",
        "             ha='center', va='bottom', fontsize=11, fontweight='bold')\n",
        "\n",
        "plt.tight_layout()\n",
        "plt.show()"
      ],
      "metadata": {
        "colab": {
          "base_uri": "https://localhost:8080/",
          "height": 551
        },
        "id": "9Fo29l5juSx4",
        "outputId": "ef75e533-b4c4-44bf-c23f-1911a36537f6"
      },
      "execution_count": null,
      "outputs": [
        {
          "output_type": "display_data",
          "data": {
            "text/plain": [
              "<Figure size 1000x600 with 1 Axes>"
            ],
            "image/png": "[encoded data removed]"
          },
          "metadata": {}
        }
      ]
    },
    {
      "cell_type": "markdown",
      "source": [
        "# 6. Obtener el mejor modelo"
      ],
      "metadata": {
        "id": "HutfIB6Oh-bS"
      }
    },
    {
      "cell_type": "code",
      "source": [
        "# Elegir el mejor modelo\n",
        "best_model_idx = 1 if model1_results['accuracy'] > model2_results['accuracy'] else 2\n",
        "best_model_results = model1_results if best_model_idx == 1 else model2_results\n",
        "best_model_name = \"Naive Bayes con Count Vectorizer\" if best_model_idx == 1 else \"Regresión Logística con TF-IDF\"\n",
        "\n",
        "print(f\"\\nEl mejor modelo es: {best_model_name}\")\n",
        "print(f\"Accuracy: {best_model_results['accuracy']:.4f}\")\n",
        "\n",
        "# Visualizar matriz de confusión del mejor modelo\n",
        "plt.figure(figsize=(8, 6))\n",
        "conf_matrix = best_model_results['confusion_matrix']\n",
        "sns.heatmap(conf_matrix, annot=True, fmt='d', cmap='Blues',\n",
        "            xticklabels=['Negativo', 'Positivo'],\n",
        "            yticklabels=['Negativo', 'Positivo'])\n",
        "plt.xlabel('Predicción', fontsize=12)\n",
        "plt.ylabel('Valor Real', fontsize=12)\n",
        "plt.title(f'Matriz de Confusión - {best_model_name}', fontsize=14)\n",
        "\n",
        "# Añadir porcentajes\n",
        "total = sum(sum(conf_matrix))\n",
        "for i in range(len(conf_matrix)):\n",
        "    for j in range(len(conf_matrix[i])):\n",
        "        percentage = conf_matrix[i][j] / total * 100\n",
        "        plt.text(j + 0.5, i + 0.7, f'{percentage:.1f}%',\n",
        "                ha='center', va='center', fontsize=12, color='darkred')\n",
        "\n",
        "plt.tight_layout()\n",
        "plt.show()"
      ],
      "metadata": {
        "colab": {
          "base_uri": "https://localhost:8080/",
          "height": 661
        },
        "id": "Ke_9z0DOubEd",
        "outputId": "4bd1a24a-0339-4682-c50b-50b4cb705ce6"
      },
      "execution_count": null,
      "outputs": [
        {
          "output_type": "stream",
          "name": "stdout",
          "text": [
            "\n",
            "El mejor modelo es: Regresión Logística con TF-IDF\n",
            "Accuracy: 0.8765\n"
          ]
        },
        {
          "output_type": "display_data",
          "data": {
            "text/plain": [
              "<Figure size 800x600 with 2 Axes>"
            ],
            "image/png": "[encoded data removed]"
          },
          "metadata": {}
        }
      ]
    },
    {
      "cell_type": "code",
      "source": [
        "# Guardar el mejor modelo y vectorizador\n",
        "import pickle\n",
        "\n",
        "with open('/content/best_model.pkl', 'wb') as f:\n",
        "    pickle.dump(best_model_results['model'], f)\n",
        "\n",
        "best_vectorizer = count_vectorizer if best_model_idx == 1 else tfidf_vectorizer\n",
        "with open('/content/best_vectorizer.pkl', 'wb') as f:\n",
        "    pickle.dump(best_vectorizer, f)\n",
        "\n",
        "print(\"\\nModelo y vectorizador guardados en archivos .pkl\")"
      ],
      "metadata": {
        "colab": {
          "base_uri": "https://localhost:8080/"
        },
        "id": "9pEmTRQDuwWl",
        "outputId": "27b7ca0a-a093-41cf-b461-6a2634dc5450"
      },
      "execution_count": null,
      "outputs": [
        {
          "output_type": "stream",
          "name": "stdout",
          "text": [
            "\n",
            "Modelo y vectorizador guardados en archivos .pkl\n"
          ]
        }
      ]
    },
    {
      "cell_type": "code",
      "source": [
        "# Guardar resultados de entrenamiento\n",
        "results_summary = {\n",
        "    'mejor_modelo': best_model_name,\n",
        "    'accuracy': best_model_results['accuracy'],\n",
        "    'confusion_matrix': best_model_results['confusion_matrix'].tolist(),\n",
        "    'vectorizacion': 'Count' if best_model_idx == 1 else 'TF-IDF'\n",
        "}\n",
        "\n",
        "with open('/content/training_results.json', 'w') as f:\n",
        "    import json\n",
        "    json.dump(results_summary, f, indent=4)\n",
        "\n",
        "# Descargar archivos generados\n",
        "from google.colab import files\n",
        "files.download('/content/best_model.pkl')\n",
        "files.download('/content/best_vectorizer.pkl')\n",
        "files.download('/content/training_results.json')"
      ],
      "metadata": {
        "colab": {
          "base_uri": "https://localhost:8080/",
          "height": 17
        },
        "id": "T2CjK10uvJuB",
        "outputId": "5c006efd-1cf6-4c63-de22-ed2c1f965941"
      },
      "execution_count": null,
      "outputs": [
        {
          "output_type": "display_data",
          "data": {
            "text/plain": [
              "<IPython.core.display.Javascript object>"
            ],
            "application/javascript": [
              "\n",
              "    async function download(id, filename, size) {\n",
              "      if (!google.colab.kernel.accessAllowed) {\n",
              "        return;\n",
              "      }\n",
              "      const div = document.createElement('div');\n",
              "      const label = document.createElement('label');\n",
              "      label.textContent = `Downloading \"${filename}\": `;\n",
              "      div.appendChild(label);\n",
              "      const progress = document.createElement('progress');\n",
              "      progress.max = size;\n",
              "      div.appendChild(progress);\n",
              "      document.body.appendChild(div);\n",
              "\n",
              "      const buffers = [];\n",
              "      let downloaded = 0;\n",
              "\n",
              "      const channel = await google.colab.kernel.comms.open(id);\n",
              "      // Send a message to notify the kernel that we're ready.\n",
              "      channel.send({})\n",
              "\n",
              "      for await (const message of channel.messages) {\n",
              "        // Send a message to notify the kernel that we're ready.\n",
              "        channel.send({})\n",
              "        if (message.buffers) {\n",
              "          for (const buffer of message.buffers) {\n",
              "            buffers.push(buffer);\n",
              "            downloaded += buffer.byteLength;\n",
              "            progress.value = downloaded;\n",
              "          }\n",
              "        }\n",
              "      }\n",
              "      const blob = new Blob(buffers, {type: 'application/binary'});\n",
              "      const a = document.createElement('a');\n",
              "      a.href = window.URL.createObjectURL(blob);\n",
              "      a.download = filename;\n",
              "      div.appendChild(a);\n",
              "      a.click();\n",
              "      div.remove();\n",
              "    }\n",
              "  "
            ]
          },
          "metadata": {}
        },
        {
          "output_type": "display_data",
          "data": {
            "text/plain": [
              "<IPython.core.display.Javascript object>"
            ],
            "application/javascript": [
              "download(\"download_58605bc3-2bfc-4a04-80b8-d59f05f41217\", \"best_model.pkl\", 40722)"
            ]
          },
          "metadata": {}
        },
        {
          "output_type": "display_data",
          "data": {
            "text/plain": [
              "<IPython.core.display.Javascript object>"
            ],
            "application/javascript": [
              "\n",
              "    async function download(id, filename, size) {\n",
              "      if (!google.colab.kernel.accessAllowed) {\n",
              "        return;\n",
              "      }\n",
              "      const div = document.createElement('div');\n",
              "      const label = document.createElement('label');\n",
              "      label.textContent = `Downloading \"${filename}\": `;\n",
              "      div.appendChild(label);\n",
              "      const progress = document.createElement('progress');\n",
              "      progress.max = size;\n",
              "      div.appendChild(progress);\n",
              "      document.body.appendChild(div);\n",
              "\n",
              "      const buffers = [];\n",
              "      let downloaded = 0;\n",
              "\n",
              "      const channel = await google.colab.kernel.comms.open(id);\n",
              "      // Send a message to notify the kernel that we're ready.\n",
              "      channel.send({})\n",
              "\n",
              "      for await (const message of channel.messages) {\n",
              "        // Send a message to notify the kernel that we're ready.\n",
              "        channel.send({})\n",
              "        if (message.buffers) {\n",
              "          for (const buffer of message.buffers) {\n",
              "            buffers.push(buffer);\n",
              "            downloaded += buffer.byteLength;\n",
              "            progress.value = downloaded;\n",
              "          }\n",
              "        }\n",
              "      }\n",
              "      const blob = new Blob(buffers, {type: 'application/binary'});\n",
              "      const a = document.createElement('a');\n",
              "      a.href = window.URL.createObjectURL(blob);\n",
              "      a.download = filename;\n",
              "      div.appendChild(a);\n",
              "      a.click();\n",
              "      div.remove();\n",
              "    }\n",
              "  "
            ]
          },
          "metadata": {}
        },
        {
          "output_type": "display_data",
          "data": {
            "text/plain": [
              "<IPython.core.display.Javascript object>"
            ],
            "application/javascript": [
              "download(\"download_3e987a6c-14c1-40c3-90be-1422ccc62acd\", \"best_vectorizer.pkl\", 188799)"
            ]
          },
          "metadata": {}
        },
        {
          "output_type": "display_data",
          "data": {
            "text/plain": [
              "<IPython.core.display.Javascript object>"
            ],
            "application/javascript": [
              "\n",
              "    async function download(id, filename, size) {\n",
              "      if (!google.colab.kernel.accessAllowed) {\n",
              "        return;\n",
              "      }\n",
              "      const div = document.createElement('div');\n",
              "      const label = document.createElement('label');\n",
              "      label.textContent = `Downloading \"${filename}\": `;\n",
              "      div.appendChild(label);\n",
              "      const progress = document.createElement('progress');\n",
              "      progress.max = size;\n",
              "      div.appendChild(progress);\n",
              "      document.body.appendChild(div);\n",
              "\n",
              "      const buffers = [];\n",
              "      let downloaded = 0;\n",
              "\n",
              "      const channel = await google.colab.kernel.comms.open(id);\n",
              "      // Send a message to notify the kernel that we're ready.\n",
              "      channel.send({})\n",
              "\n",
              "      for await (const message of channel.messages) {\n",
              "        // Send a message to notify the kernel that we're ready.\n",
              "        channel.send({})\n",
              "        if (message.buffers) {\n",
              "          for (const buffer of message.buffers) {\n",
              "            buffers.push(buffer);\n",
              "            downloaded += buffer.byteLength;\n",
              "            progress.value = downloaded;\n",
              "          }\n",
              "        }\n",
              "      }\n",
              "      const blob = new Blob(buffers, {type: 'application/binary'});\n",
              "      const a = document.createElement('a');\n",
              "      a.href = window.URL.createObjectURL(blob);\n",
              "      a.download = filename;\n",
              "      div.appendChild(a);\n",
              "      a.click();\n",
              "      div.remove();\n",
              "    }\n",
              "  "
            ]
          },
          "metadata": {}
        },
        {
          "output_type": "display_data",
          "data": {
            "text/plain": [
              "<IPython.core.display.Javascript object>"
            ],
            "application/javascript": [
              "download(\"download_a187d9a5-1cdf-4be3-916a-800950625cd2\", \"training_results.json\", 261)"
            ]
          },
          "metadata": {}
        }
      ]
    }
  ]
}