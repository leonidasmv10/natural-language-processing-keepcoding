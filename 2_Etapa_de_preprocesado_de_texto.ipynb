{
  "nbformat": 4,
  "nbformat_minor": 0,
  "metadata": {
    "colab": {
      "provenance": []
    },
    "kernelspec": {
      "name": "python3",
      "display_name": "Python 3"
    },
    "language_info": {
      "name": "python"
    }
  },
  "cells": [
    {
      "cell_type": "markdown",
      "source": [
        "# 🧠 Práctica final NLP\n",
        "\n",
        "## 📊 Análisis de Sentimiento - Etapa de preprocesado de texto\n",
        "\n",
        "### 🛒 Dataset: Reviews de Amazon\n",
        "\n",
        "Este dataset contiene reseñas de productos de Amazon clasificadas por categorías, en este caso, **Deportes y actividades al aire libre**.  \n",
        "Cada reseña incluye una calificación representada por un **número de estrellas ⭐**.\n"
      ],
      "metadata": {
        "id": "4xTaP0vlWGB-"
      }
    },
    {
      "cell_type": "markdown",
      "source": [
        "# 1. Cargar el dataset balanceado"
      ],
      "metadata": {
        "id": "G-m9NAygXWQb"
      }
    },
    {
      "cell_type": "code",
      "execution_count": null,
      "metadata": {
        "id": "cRRPGQz9jmkC"
      },
      "outputs": [],
      "source": [
        "import pandas as pd\n",
        "import numpy as np\n",
        "import spacy\n",
        "import re\n",
        "import matplotlib.pyplot as plt\n",
        "import seaborn as sns"
      ]
    },
    {
      "cell_type": "code",
      "source": [
        "# Cargar modelo SpaCy\n",
        "nlp = spacy.load(\"en_core_web_sm\")\n",
        "\n",
        "# Cargar el dataset balanceado\n",
        "reviews_df = pd.read_csv('/content/balanced_dataset.csv')\n",
        "\n",
        "# Verificar que el dataset se haya cargado correctamente\n",
        "print(\"Dataset cargado exitosamente\")\n",
        "print(f\"Dimensiones: {reviews_df.shape}\")\n",
        "print(f\"Columnas: {reviews_df.columns.tolist()}\")"
      ],
      "metadata": {
        "colab": {
          "base_uri": "https://localhost:8080/"
        },
        "id": "oH4xxCNGjrNz",
        "outputId": "39a061f3-c603-4a8d-ceff-29b1bf438c48"
      },
      "execution_count": null,
      "outputs": [
        {
          "output_type": "stream",
          "name": "stdout",
          "text": [
            "Dataset cargado exitosamente\n",
            "Dimensiones: (10000, 10)\n",
            "Columnas: ['reviewerID', 'asin', 'reviewerName', 'helpful', 'reviewText', 'overall', 'summary', 'unixReviewTime', 'reviewTime', 'sentiment']\n"
          ]
        }
      ]
    },
    {
      "cell_type": "code",
      "source": [
        "# Mostrar ejemplos de reviews originales\n",
        "print(\"\\nEjemplos de reviews originales:\")\n",
        "print(\"-\" * 50)\n",
        "for i, review in enumerate(reviews_df['reviewText'].head(3)):\n",
        "    print(f\"Review {i+1}:\")\n",
        "    print(review[:200])  # Mostrar solo los primeros 200 caracteres\n",
        "    print(\"-\" * 50)"
      ],
      "metadata": {
        "colab": {
          "base_uri": "https://localhost:8080/"
        },
        "id": "bQXlig8UkRvb",
        "outputId": "50d32789-f77e-4b3e-b284-a4e691a9da9c"
      },
      "execution_count": null,
      "outputs": [
        {
          "output_type": "stream",
          "name": "stdout",
          "text": [
            "\n",
            "Ejemplos de reviews originales:\n",
            "--------------------------------------------------\n",
            "Review 1:\n",
            "This came in on time and I am veru happy with it, I haved used it already and it makes taking out the pins in my glock 32 very easy\n",
            "--------------------------------------------------\n",
            "Review 2:\n",
            "I had a factory Glock tool that I was using for my Glock 26, 27, and 17.  I've since lost it and had needed another.  Since I've used Ghost products prior, and know that they are reliable, I had decid\n",
            "--------------------------------------------------\n",
            "Review 3:\n",
            "If you don't have a 3/32 punch or would like to have one in your Glock bag, this is okay.  The butt end of it is handy for pushing pins back in place.  If you already have a 3/32 punch and don't need \n",
            "--------------------------------------------------\n"
          ]
        }
      ]
    },
    {
      "cell_type": "markdown",
      "source": [
        "# 2. Cargar funciones auxiliares para el preprocesamiento"
      ],
      "metadata": {
        "id": "HERlNDpvXm7S"
      }
    },
    {
      "cell_type": "code",
      "source": [
        "# Función auxiliar para eliminar URLs\n",
        "def remove_urls(text):\n",
        "    \"\"\"Elimina URLs del texto\"\"\"\n",
        "    url_pattern = r'http\\S+|www\\S+|https\\S+'\n",
        "    return re.sub(url_pattern, '', text)"
      ],
      "metadata": {
        "id": "Bhwt34plka0A"
      },
      "execution_count": null,
      "outputs": []
    },
    {
      "cell_type": "code",
      "source": [
        "# Función auxiliar para eliminar caracteres especiales\n",
        "def remove_special_chars(text):\n",
        "    \"\"\"Elimina caracteres especiales, números y espacios múltiples\"\"\"\n",
        "    # Eliminar caracteres especiales y números\n",
        "    text = re.sub(r'[^a-zA-Z\\s]', '', text)\n",
        "    # Eliminar espacios múltiples\n",
        "    text = re.sub(r'\\s+', ' ', text).strip()\n",
        "    return text\n"
      ],
      "metadata": {
        "id": "Onweq6q0kcMW"
      },
      "execution_count": null,
      "outputs": []
    },
    {
      "cell_type": "markdown",
      "source": [
        "# 3. Funciones de preprocesados"
      ],
      "metadata": {
        "id": "u6K6CsrOX4zC"
      }
    },
    {
      "cell_type": "code",
      "source": [
        "# Función principal de preprocesado\n",
        "def preprocess_text(text):\n",
        "    # Validar input\n",
        "    if pd.isna(text) or text is None:\n",
        "        return 'no_content'\n",
        "\n",
        "    text = str(text).strip()\n",
        "    if text == '':\n",
        "        return 'no_content'\n",
        "\n",
        "    # Convertir a minúsculas\n",
        "    text = text.lower()\n",
        "\n",
        "    # Eliminar URLs\n",
        "    text = remove_urls(text)\n",
        "\n",
        "    # Eliminar caracteres especiales y números\n",
        "    text = remove_special_chars(text)\n",
        "\n",
        "    # Procesar con SpaCy\n",
        "    doc = nlp(text)\n",
        "\n",
        "    # Filtrar y lematizar tokens\n",
        "    processed_tokens = []\n",
        "    for token in doc:\n",
        "        # Filtrar stopwords, puntuación, espacios, y tokens muy cortos\n",
        "        if not token.is_stop and not token.is_punct and not token.is_space and len(token.text) > 2:\n",
        "            # Lematizar\n",
        "            processed_tokens.append(token.lemma_)\n",
        "\n",
        "    # Unir tokens procesados\n",
        "    processed_text = ' '.join(processed_tokens)\n",
        "\n",
        "    # Validar output - asegurar que nunca devuelve cadena vacía\n",
        "    if not processed_text.strip():\n",
        "        return 'no_content'\n",
        "\n",
        "    return processed_text"
      ],
      "metadata": {
        "id": "-bpoX_IOkXU9"
      },
      "execution_count": null,
      "outputs": []
    },
    {
      "cell_type": "code",
      "source": [
        "# Función avanzada de preprocesado con más filtros\n",
        "def advanced_preprocess_text(text):\n",
        "    # Validar input\n",
        "    if pd.isna(text) or text is None:\n",
        "        return 'no_content'\n",
        "\n",
        "    text = str(text).strip()\n",
        "    if text == '':\n",
        "        return 'no_content'\n",
        "\n",
        "    # Convertir a minúsculas\n",
        "    text = text.lower()\n",
        "\n",
        "    # Eliminar URLs\n",
        "    text = remove_urls(text)\n",
        "\n",
        "    # Eliminar caracteres especiales y números\n",
        "    text = remove_special_chars(text)\n",
        "\n",
        "    # Procesar con SpaCy\n",
        "    doc = nlp(text)\n",
        "\n",
        "    processed_tokens = []\n",
        "    for token in doc:\n",
        "        # Más condiciones de filtrado\n",
        "        if (not token.is_stop and\n",
        "            not token.is_punct and\n",
        "            not token.is_space and\n",
        "            len(token.text) > 2 and\n",
        "            token.pos_ not in ['PRON', 'DET', 'ADP'] and  # Filtrar pronombres, determinantes, preposiciones\n",
        "            len(token.text) < 20 and  # Ignorar palabras muy largas\n",
        "            token.is_alpha):  # Solo palabras alfabéticas\n",
        "\n",
        "            # Lematizar\n",
        "            processed_tokens.append(token.lemma_)\n",
        "\n",
        "    processed_text = ' '.join(processed_tokens)\n",
        "\n",
        "    # Validar output - asegurar que nunca devuelve cadena vacía\n",
        "    if not processed_text.strip():\n",
        "        return 'no_content'\n",
        "\n",
        "    return processed_text"
      ],
      "metadata": {
        "id": "UnBGKnUPkeBy"
      },
      "execution_count": null,
      "outputs": []
    },
    {
      "cell_type": "markdown",
      "source": [
        "# 4. Validar textos nulos o vacíos"
      ],
      "metadata": {
        "id": "7NdAKw2YcLAq"
      }
    },
    {
      "cell_type": "code",
      "source": [
        "# Verificar textos nulos o vacíos en el dataset original\n",
        "null_count = reviews_df['reviewText'].isna().sum()\n",
        "empty_count = reviews_df['reviewText'].apply(lambda x: str(x).strip() == '' if pd.notna(x) else True).sum()\n",
        "\n",
        "print(f\"\\nTextos nulos en el dataset original: {null_count}\")\n",
        "print(f\"Textos vacíos en el dataset original: {empty_count}\")"
      ],
      "metadata": {
        "colab": {
          "base_uri": "https://localhost:8080/"
        },
        "id": "qbdRhJX6rHNe",
        "outputId": "5692bded-2768-4da1-f29a-7b7030417749"
      },
      "execution_count": null,
      "outputs": [
        {
          "output_type": "stream",
          "name": "stdout",
          "text": [
            "\n",
            "Textos nulos en el dataset original: 11\n",
            "Textos vacíos en el dataset original: 11\n"
          ]
        }
      ]
    },
    {
      "cell_type": "markdown",
      "source": [
        "# 5. Aplicar el preprocesado a todo el dataset\n"
      ],
      "metadata": {
        "id": "qWxV-ngWbgur"
      }
    },
    {
      "cell_type": "code",
      "source": [
        "print(\"\\nAplicando preprocesado a todo el dataset...\")\n",
        "reviews_df['processed_text'] = reviews_df['reviewText'].apply(preprocess_text)\n",
        "reviews_df['processed_text_advanced'] = reviews_df['reviewText'].apply(advanced_preprocess_text)"
      ],
      "metadata": {
        "colab": {
          "base_uri": "https://localhost:8080/"
        },
        "id": "wd-sCt3UkpXW",
        "outputId": "6ddd91c4-e0f2-4f15-a8c4-318c05b0b666"
      },
      "execution_count": null,
      "outputs": [
        {
          "output_type": "stream",
          "name": "stdout",
          "text": [
            "\n",
            "Aplicando preprocesado a todo el dataset...\n"
          ]
        }
      ]
    },
    {
      "cell_type": "code",
      "source": [
        "# Verificar que no hay valores nulos en el resultado\n",
        "print(\"\\nVerificación de resultados:\")\n",
        "print(f\"Valores nulos en processed_text: {reviews_df['processed_text'].isna().sum()}\")\n",
        "print(f\"Valores nulos en processed_text_advanced: {reviews_df['processed_text_advanced'].isna().sum()}\")\n",
        "print(f\"Cadenas 'no_content' generadas: {(reviews_df['processed_text_advanced'] == 'no_content').sum()}\")"
      ],
      "metadata": {
        "colab": {
          "base_uri": "https://localhost:8080/"
        },
        "id": "QoHWnB6VryN5",
        "outputId": "c3e53429-203c-465d-9c20-64b8b59b45fa"
      },
      "execution_count": null,
      "outputs": [
        {
          "output_type": "stream",
          "name": "stdout",
          "text": [
            "\n",
            "Verificación de resultados:\n",
            "Valores nulos en processed_text: 0\n",
            "Valores nulos en processed_text_advanced: 0\n",
            "Cadenas 'no_content' generadas: 11\n"
          ]
        }
      ]
    },
    {
      "cell_type": "markdown",
      "source": [
        "# 6. Análisis comparativo del preprocesado"
      ],
      "metadata": {
        "id": "Ok8NqVwcc2V6"
      }
    },
    {
      "cell_type": "code",
      "source": [
        "print(\"\\nAnálisis del preprocesado:\")\n",
        "print(\"-\"*30)\n",
        "original_length = reviews_df['reviewText'].str.len().mean()\n",
        "basic_length = reviews_df['processed_text'].str.len().mean()\n",
        "advanced_length = reviews_df['processed_text_advanced'].str.len().mean()\n",
        "\n",
        "print(f\"Longitud promedio del texto original: {original_length:.2f} caracteres\")\n",
        "print(f\"Longitud promedio del texto preprocesado (básico): {basic_length:.2f} caracteres\")\n",
        "print(f\"Longitud promedio del texto preprocesado (avanzado): {advanced_length:.2f} caracteres\")\n",
        "print(f\"Reducción básica: {((original_length - basic_length) / original_length * 100):.1f}%\")\n",
        "print(f\"Reducción avanzada: {((original_length - advanced_length) / original_length * 100):.1f}%\")"
      ],
      "metadata": {
        "colab": {
          "base_uri": "https://localhost:8080/"
        },
        "id": "CRRHwqDzks58",
        "outputId": "a69d0a9e-4a2e-449e-e088-d8ef2c53d8ad"
      },
      "execution_count": null,
      "outputs": [
        {
          "output_type": "stream",
          "name": "stdout",
          "text": [
            "\n",
            "Análisis del preprocesado:\n",
            "------------------------------\n",
            "Longitud promedio del texto original: 458.29 caracteres\n",
            "Longitud promedio del texto preprocesado (básico): 226.42 caracteres\n",
            "Longitud promedio del texto preprocesado (avanzado): 224.05 caracteres\n",
            "Reducción básica: 50.6%\n",
            "Reducción avanzada: 51.1%\n"
          ]
        }
      ]
    },
    {
      "cell_type": "code",
      "source": [
        "# Visualizar la reducción de texto\n",
        "fig, ax = plt.subplots(1, 1, figsize=(10, 6))\n",
        "methods = ['Original', 'Preprocesado Básico', 'Preprocesado Avanzado']\n",
        "lengths = [original_length, basic_length, advanced_length]\n",
        "colors = ['skyblue', 'lightgreen', 'lightcoral']\n",
        "\n",
        "bars = ax.bar(methods, lengths, color=colors)\n",
        "ax.set_title('Comparación de Longitud de Texto por Método de Preprocesado', fontsize=14)\n",
        "ax.set_ylabel('Longitud promedio (caracteres)', fontsize=12)\n",
        "ax.set_xticklabels(methods, rotation=45, ha='right')\n",
        "\n",
        "# Añadir valores sobre las barras\n",
        "for bar in bars:\n",
        "    height = bar.get_height()\n",
        "    ax.text(bar.get_x() + bar.get_width()/2., height,\n",
        "            f'{height:.1f}',\n",
        "            ha='center', va='bottom', fontsize=11)\n",
        "\n",
        "plt.tight_layout()\n",
        "plt.show()"
      ],
      "metadata": {
        "colab": {
          "base_uri": "https://localhost:8080/",
          "height": 607
        },
        "id": "aVWXhb-wkvoa",
        "outputId": "97ef1e5b-1b3b-4fbb-fbbd-0c317545de27"
      },
      "execution_count": null,
      "outputs": [
        {
          "output_type": "stream",
          "name": "stderr",
          "text": [
            "<ipython-input-12-ecd08f77483c>:10: UserWarning: set_ticklabels() should only be used with a fixed number of ticks, i.e. after set_ticks() or using a FixedLocator.\n",
            "  ax.set_xticklabels(methods, rotation=45, ha='right')\n"
          ]
        },
        {
          "output_type": "display_data",
          "data": {
            "text/plain": [
              "<Figure size 1000x600 with 1 Axes>"
            ],
            "image/png": "[encoded data removed]"
          },
          "metadata": {}
        }
      ]
    },
    {
      "cell_type": "code",
      "source": [
        "# Analizar distribución de longitudes de texto\n",
        "fig, axes = plt.subplots(1, 3, figsize=(15, 5))\n",
        "\n",
        "# Histograma de longitud original\n",
        "axes[0].hist(reviews_df['reviewText'].str.len(), bins=50, color='skyblue', alpha=0.7)\n",
        "axes[0].set_title('Longitud Original', fontsize=12)\n",
        "axes[0].set_xlabel('Caracteres')\n",
        "axes[0].set_ylabel('Frecuencia')\n",
        "\n",
        "# Histograma de longitud preprocesada básica\n",
        "axes[1].hist(reviews_df['processed_text'].str.len(), bins=50, color='lightgreen', alpha=0.7)\n",
        "axes[1].set_title('Longitud Preprocesada Básica', fontsize=12)\n",
        "axes[1].set_xlabel('Caracteres')\n",
        "\n",
        "# Histograma de longitud preprocesada avanzada\n",
        "axes[2].hist(reviews_df['processed_text_advanced'].str.len(), bins=50, color='lightcoral', alpha=0.7)\n",
        "axes[2].set_title('Longitud Preprocesada Avanzada', fontsize=12)\n",
        "axes[2].set_xlabel('Caracteres')\n",
        "\n",
        "plt.tight_layout()\n",
        "plt.show()"
      ],
      "metadata": {
        "colab": {
          "base_uri": "https://localhost:8080/",
          "height": 312
        },
        "id": "Ky2PTNl6k3Gs",
        "outputId": "5e2dc83c-1c3b-45de-c98b-a6cbf25af948"
      },
      "execution_count": null,
      "outputs": [
        {
          "output_type": "display_data",
          "data": {
            "text/plain": [
              "<Figure size 1500x500 with 3 Axes>"
            ],
            "image/png": "[encoded data removed]"
          },
          "metadata": {}
        }
      ]
    },
    {
      "cell_type": "code",
      "source": [
        "# Guardar el dataset preprocesado\n",
        "reviews_df.to_csv('/content/preprocessed_dataset.csv', index=False)\n",
        "print(\"\\nDataset con texto preprocesado guardado en 'preprocessed_dataset.csv'\")"
      ],
      "metadata": {
        "colab": {
          "base_uri": "https://localhost:8080/"
        },
        "id": "IPguIR41lFF4",
        "outputId": "4b7e31f9-26d5-4e7f-9497-b61cc61bff7e"
      },
      "execution_count": null,
      "outputs": [
        {
          "output_type": "stream",
          "name": "stdout",
          "text": [
            "\n",
            "Dataset con texto preprocesado guardado en 'preprocessed_dataset.csv'\n"
          ]
        }
      ]
    },
    {
      "cell_type": "code",
      "source": [
        "# Descargar el dataset preprocesado\n",
        "from google.colab import files\n",
        "files.download('/content/preprocessed_dataset.csv')"
      ],
      "metadata": {
        "colab": {
          "base_uri": "https://localhost:8080/",
          "height": 17
        },
        "id": "YUsMc0DulJhA",
        "outputId": "24cd36cc-a9c3-4938-fe7d-4f6888a8022a"
      },
      "execution_count": null,
      "outputs": [
        {
          "output_type": "display_data",
          "data": {
            "text/plain": [
              "<IPython.core.display.Javascript object>"
            ],
            "application/javascript": [
              "\n",
              "    async function download(id, filename, size) {\n",
              "      if (!google.colab.kernel.accessAllowed) {\n",
              "        return;\n",
              "      }\n",
              "      const div = document.createElement('div');\n",
              "      const label = document.createElement('label');\n",
              "      label.textContent = `Downloading \"${filename}\": `;\n",
              "      div.appendChild(label);\n",
              "      const progress = document.createElement('progress');\n",
              "      progress.max = size;\n",
              "      div.appendChild(progress);\n",
              "      document.body.appendChild(div);\n",
              "\n",
              "      const buffers = [];\n",
              "      let downloaded = 0;\n",
              "\n",
              "      const channel = await google.colab.kernel.comms.open(id);\n",
              "      // Send a message to notify the kernel that we're ready.\n",
              "      channel.send({})\n",
              "\n",
              "      for await (const message of channel.messages) {\n",
              "        // Send a message to notify the kernel that we're ready.\n",
              "        channel.send({})\n",
              "        if (message.buffers) {\n",
              "          for (const buffer of message.buffers) {\n",
              "            buffers.push(buffer);\n",
              "            downloaded += buffer.byteLength;\n",
              "            progress.value = downloaded;\n",
              "          }\n",
              "        }\n",
              "      }\n",
              "      const blob = new Blob(buffers, {type: 'application/binary'});\n",
              "      const a = document.createElement('a');\n",
              "      a.href = window.URL.createObjectURL(blob);\n",
              "      a.download = filename;\n",
              "      div.appendChild(a);\n",
              "      a.click();\n",
              "      div.remove();\n",
              "    }\n",
              "  "
            ]
          },
          "metadata": {}
        },
        {
          "output_type": "display_data",
          "data": {
            "text/plain": [
              "<IPython.core.display.Javascript object>"
            ],
            "application/javascript": [
              "download(\"download_4bc26d89-855a-4b1e-880e-b9476c311693\", \"preprocessed_dataset.csv\", 10247420)"
            ]
          },
          "metadata": {}
        }
      ]
    }
  ]
}